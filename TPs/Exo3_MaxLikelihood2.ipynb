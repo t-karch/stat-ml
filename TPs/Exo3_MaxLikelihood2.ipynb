{
 "cells": [
  {
   "cell_type": "markdown",
   "metadata": {},
   "source": [
    "\n",
    "## Exercice 3 : maximum de vraisemblance 2\n",
    "\n",
    "On veut quantifier le lien entre deux variables pour lesquelles une relation lineaire semble exister, mais le bruit qui effecte les observations sur la deuxieme variable n'est clairement pas Gaussien.\n",
    "\n",
    "Nous allons essayer de trouver la relation entre les variables a l'aide d'un modele de regression lineaire dont les parametres seront optimises en maximisant une vraissemblance plutot qu'en minimisant une erreur au carre.\n"
   ]
  },
  {
   "cell_type": "code",
   "execution_count": 165,
   "metadata": {},
   "outputs": [
    {
     "name": "stdout",
     "output_type": "stream",
     "text": [
      "[0.35126503 0.54656618 0.42987912 0.40705674 0.28814975 0.25336995\n",
      " 0.81537137 0.34032593 0.07728036 0.81440643 0.80856113 0.59883507\n",
      " 0.66586139 0.74683784 0.24815497 0.32900587 0.47855716 0.03147689\n",
      " 0.23565065 0.84756984]\n"
     ]
    },
    {
     "data": {
      "image/png": "[encoded data removed]",
      "text/plain": [
       "<Figure size 640x480 with 1 Axes>"
      ]
     },
     "metadata": {},
     "output_type": "display_data"
    }
   ],
   "source": [
    "import numpy as np\n",
    "import matplotlib.pyplot as plt\n",
    "\n",
    "\n",
    "MyData=np.genfromtxt('QuantifiedDataExo1_3.csv')\n",
    "print(MyData[:,0])\n",
    "\n",
    "plt.scatter(MyData[:,0],MyData[:,1])\n",
    "plt.show()\n"
   ]
  },
  {
   "cell_type": "markdown",
   "metadata": {},
   "source": [
    "\n",
    "### <span style=\"color:blue\">QUESTION 3.1 :</span> \n",
    "\n",
    "Essayez de resoudre le probleme a l'aide de l'algorithme de regression lineaire de scikit-learn"
   ]
  },
  {
   "cell_type": "code",
   "execution_count": 166,
   "metadata": {},
   "outputs": [
    {
     "name": "stdout",
     "output_type": "stream",
     "text": [
      "Coefficient de régression linéaire : 2.2284650614539414\n",
      "Ordonnée à l'origine : -0.4664780434002773\n",
      "Score de régression : 0.48721422670655357\n"
     ]
    },
    {
     "data": {
      "image/png": "[encoded data removed]",
      "text/plain": [
       "<Figure size 640x480 with 1 Axes>"
      ]
     },
     "metadata": {},
     "output_type": "display_data"
    }
   ],
   "source": [
    "X=MyData[:,0]\n",
    "Y=MyData[:,1]\n",
    "\n",
    "import sklearn\n",
    "from sklearn.linear_model import LinearRegression\n",
    "\n",
    "lr = LinearRegression()\n",
    "lr.fit(X[:, np.newaxis], Y)\n",
    "print('Coefficient de régression linéaire :', lr.coef_[0])\n",
    "print('Ordonnée à l\\'origine :', lr.intercept_)\n",
    "print('Score de régression :', lr.score(X[:, np.newaxis], Y))\n",
    "\n",
    "\n",
    "plot = plt.plot(X, lr.coef_[0] * X + lr.intercept_, color='red')\n",
    "plt.scatter(X, Y)   \n",
    "plt.show()\n"
   ]
  },
  {
   "cell_type": "markdown",
   "metadata": {},
   "source": [
    "On peut constater que la pente de la courbe est legerement trop forte. Cette mauvaise estimation est due a trois observations a droite de la figure qui font un effet levier. La regression lineaire minimise l'erreur d'approximation au carre sur les observations d'apprentissage. De maniere sous-jacente cela se base sur l'hypothese que les erreurs d'approximation suivent une loi normale centree (et pas forcement reduite). Hors, les erreurs d'approximation autour d'un modele lineaire sont clairement non symetriques ici. Nous allons alors resoudre le probleme au sens du maximum de vraisemblance.\n",
    "\n",
    "### <span style=\"color:blue\">QUESTION 3.2 :</span> \n",
    "\n",
    "On va modeliser le probleme sous la forme :\n",
    "\n",
    "$ypred_i = a * x_i +b \\,,\\, \\forall i = 1, \\ldots, n$\n",
    "et $err_i= ypred_i-y_i$\n",
    "\n",
    "ou les $x_i$ et $y_i$ sont les donnees d'apprentissage pour les observations $i$ dans $[1, 2, ..., n]$, et $ypred_i$ approche $y_i$. Les deux parametres du modele lineaire que l'on cherche a estimer sont $a$ et $b$. Afin de résoudre le probleme, on va alors repondre aux sous-questions suivantes :\n",
    "\n",
    "#### <span style=\"color:blue\">QUESTION 3.2.1 :</span> \n",
    "Codez une fonction qui calcul les erreurs d'approximations pour toutes les observations de $X$ et $Y$ avec un $a$ et un $b$ specifiques.\n",
    "\n",
    "#### <span style=\"color:blue\">QUESTION 3.2.2 :</span> \n",
    "\n",
    "Codez une fonction qui calcule la log-vraisemblance (ou la vraisemblance) de parametres pour lesquel l'erreur d'approximation suit une loi normale centree d'ecart type sigma. On donnera la valeur par defaut sigma=2\n",
    "\n",
    "#### <span style=\"color:blue\">QUESTION 3.2.3 :</span> \n",
    "\n",
    "Codez une fonction qui calcule la log-vraisemblance (ou la vraisemblance) de parametres pour lesquel l'erreur d'approximation suit une loi de chi2. On fixera par defaut le nombre de degres de liberte ddl=3 et l'echelle de la loi (scale) a 0.4. On fera très attention au fait que la densite de probabilite d'une valeur negative sera egale a zero avec la loi du chi2.\n",
    "\n",
    "#### <span style=\"color:blue\">QUESTION 3.2.4 :</span> \n",
    "\n",
    "Utilisez les fonctions de calcul de la (log-)vraisemblance pour trouver une relation lineaire qui semble raisonable, i.e. pour trouver les parametres a et b les plus vraisemblables. On pourra eventuellement s'aider d'une representation du nuage de points qui represente le 'score' attribue a chaque observation.\n"
   ]
  },
  {
   "cell_type": "code",
   "execution_count": 167,
   "metadata": {},
   "outputs": [],
   "source": [
    "#CODE 2.1\n",
    "def compute_errors(X,Y,theta):\n",
    "    \"\"\"\n",
    "    returns a vector having the same size as X or Y which represents the errors\n",
    "    with a 1D linear model of parameters theta=[a,b]\n",
    "    \"\"\"\n",
    "    errors = Y - (theta[0]*X + theta[1])\n",
    "    return errors\n"
   ]
  },
  {
   "cell_type": "code",
   "execution_count": 168,
   "metadata": {},
   "outputs": [],
   "source": [
    "\n",
    "#CODE 2.2\n",
    "\n",
    "from scipy.stats import norm\n",
    "\n",
    "def likelihood_normal(X,Y,theta,sigma=2., verbose=False):\n",
    "    \"\"\"\n",
    "    returns the likelihood of the 1D linear model with parameters theta=[a,b] and\n",
    "    the errors following a normal law of std=sigma\n",
    "    \"\"\"\n",
    "    errors=compute_errors(X,Y,theta)\n",
    "\n",
    "    likelihood = np.prod(norm.pdf(errors, loc=0, scale=sigma))\n",
    "\n",
    "    return likelihood\n",
    "\n"
   ]
  },
  {
   "cell_type": "code",
   "execution_count": 169,
   "metadata": {},
   "outputs": [],
   "source": [
    "#CODE 2.3\n",
    "\n",
    "from scipy.stats import chi2\n",
    "\n",
    "def likelihood_chi2(X,Y,theta,dof=3,sc=0.4, verbose=False):\n",
    "    \"\"\"\n",
    "    returns the likelihood of the 1D linear model with parameters theta=[a,b] and\n",
    "    the errors following a chi2 law of dof degrees of freedom\n",
    "    \"\"\"\n",
    "    errors=compute_errors(X,Y,theta)\n",
    "\n",
    "    likelihood = np.prod(chi2.pdf(errors/sc, df=dof)) * (1/sc)\n",
    "\n",
    "    return likelihood\n",
    "\n"
   ]
  },
  {
   "cell_type": "code",
   "execution_count": 170,
   "metadata": {},
   "outputs": [],
   "source": [
    "def log_likelihood_chi2(X,Y,theta,dof=3,sc=0.4, verbose=False):\n",
    "    \"\"\"\n",
    "    returns the likelihood of the 1D linear model with parameters theta=[a,b] and\n",
    "    the errors following a chi2 law of dof degrees of freedom\n",
    "    \"\"\"\n",
    "    # epsilon = 1e-20  # pour éviter log(0)\n",
    "    # errors = compute_errors(X, Y, theta)\n",
    "\n",
    "    # # log de la densité + correction d'échelle\n",
    "    # log_likelihood = np.sum(np.log(chi2.pdf(errors/sc, scale = sc, df=dof) + epsilon))\n",
    "    # return log_likelihood\n",
    "\n",
    "    errors = -compute_errors(X,Y,theta)\n",
    "    errors = errors[errors >= 0]  # Chi2 is defined for x >= 0\n",
    "    chi2_values = chi2.pdf(errors, scale=sc, df=dof)\n",
    "    likelihood_chi2 = np.sum(np.log(chi2_values + 1e-20))\n",
    "\n",
    "    return likelihood_chi2\n",
    "    \n",
    "\n"
   ]
  },
  {
   "cell_type": "code",
   "execution_count": 171,
   "metadata": {},
   "outputs": [],
   "source": [
    "\n",
    "def log_likelihood_normal(X,Y,theta,sigma=2., verbose=False):\n",
    "    \"\"\"\n",
    "    returns the likelihood of the 1D linear model with parameters theta=[a,b] and\n",
    "    the errors following a normal law of std=sigma\n",
    "    \"\"\"\n",
    "    errors=compute_errors(X,Y,theta)\n",
    "\n",
    "    likelihood = np.sum(np.log(norm.pdf(errors, loc=0, scale=sigma)))\n",
    "\n",
    "    return likelihood\n"
   ]
  },
  {
   "cell_type": "code",
   "execution_count": 172,
   "metadata": {},
   "outputs": [
    {
     "name": "stdout",
     "output_type": "stream",
     "text": [
      "-35.26806486761808 -17.752085433836026\n"
     ]
    }
   ],
   "source": [
    "lln = log_likelihood_normal(X,Y,theta=[1,1],sigma=2., verbose=False)\n",
    "llc = log_likelihood_chi2(X,Y,theta=[1,1],dof=3,sc=0.4, verbose=False)\n",
    "print(lln, llc)"
   ]
  },
  {
   "cell_type": "markdown",
   "metadata": {},
   "source": [
    "\n",
    "### <span style=\"color:blue\">QUESTION 3.3 :</span> \n",
    "\n",
    "Codez une fonction de descente de gradient pour apprendre les parametres optimaux du modele (a et b) avec les deux types de bruit consideres mais leurs parametres fixes aux valeurs par defaut.\n",
    "\n",
    "Remarque: on **maximisera** idéalement la log-vraisemblance plutôt que la vraisemblance, ce qui est numeriquement plus efficace et conduit au même résultat.\n",
    "\n"
   ]
  },
  {
   "cell_type": "code",
   "execution_count": 173,
   "metadata": {},
   "outputs": [],
   "source": [
    "\n",
    "def MinusLikelihood_normal(X,Y,theta,sigma=2.):\n",
    "    return -log_likelihood_normal(X,Y,theta,sigma=sigma)\n",
    "\n",
    "def MinusLikelihood_chi2(X,Y,theta,dof=3,sc=0.4):\n",
    "    return -log_likelihood_chi2(X,Y,theta,dof=dof,sc=sc)\n",
    "\n",
    "#3.1: fonctions pour la descente de gradient\n",
    "\n",
    "def Grad_function(f,X,Y,theta_loc,epsilon=1e-5):\n",
    "    \"\"\"\n",
    "    returns an approximation of the gradient of f at point theta_loc\n",
    "    using finite differences with a step epsilon\n",
    "    \"\"\"\n",
    "    ApproxGrad = np.zeros(len(theta_loc))\n",
    "    \n",
    "    for i in range(len(theta_loc)):\n",
    "        dtheta = np.zeros(len(theta_loc))\n",
    "        dtheta[i] = epsilon\n",
    "        ApproxGrad[i] = (f(X,Y,theta_loc + dtheta) - f(X,Y,theta_loc - dtheta)) / (2 * epsilon)\n",
    "    return ApproxGrad\n",
    "\n",
    "# descente de gradient avec alpha defini a la main\n",
    "\n",
    "def grad_descent(funct, X, Y, theta_init, convspeedfactor=0.1, nbIterations=100):\n",
    "    for i in range(nbIterations):\n",
    "        grad = Grad_function(funct,X,Y,theta_init)\n",
    "        theta = theta_init - convspeedfactor *  grad\n",
    "        theta_init = theta\n",
    "\n",
    "    return theta\n",
    "\n",
    "\n"
   ]
  },
  {
   "cell_type": "code",
   "execution_count": 174,
   "metadata": {},
   "outputs": [
    {
     "name": "stdout",
     "output_type": "stream",
     "text": [
      "[ 2.06335564 -0.38556907]\n",
      "[1.10901207 0.41486693]\n"
     ]
    },
    {
     "data": {
      "image/png": "[encoded data removed]",
      "text/plain": [
       "<Figure size 640x480 with 1 Axes>"
      ]
     },
     "metadata": {},
     "output_type": "display_data"
    }
   ],
   "source": [
    "theta_init=[0,0]\n",
    "\n",
    "theta_opt_normal = grad_descent(MinusLikelihood_normal, X, Y, theta_init, convspeedfactor=0.01, nbIterations=1000)\n",
    "theta_opt_chi2 = grad_descent(MinusLikelihood_chi2, X, Y, theta_init, convspeedfactor=0.01, nbIterations=1000)\n",
    "\n",
    "print(theta_opt_normal)\n",
    "print(theta_opt_chi2)\n",
    "\n",
    "plot = plt.plot(X, theta_opt_normal[0] * X + theta_opt_normal[1], color='red')\n",
    "plot = plt.plot(X, theta_opt_chi2[0] * X + theta_opt_chi2[1], color='green')\n",
    "\n",
    "plt.scatter(X, Y)   \n",
    "plt.show()"
   ]
  },
  {
   "cell_type": "markdown",
   "metadata": {},
   "source": [
    "\n",
    "l'optimisation marche aussi, meme si il faut faire tres attention au choix du theta_init (la densite du chi2 est nulle pour les erreurs negatives)... par contre :\n",
    "  -> la vraisemblance est de 10e-7 au lieu de 10e-15\n",
    "  -> le modele lineaire colle mieux a la majorite des donnees et est moins sensible aux donnees visiblement aberrantes\n",
    "\n",
    "\n",
    "On peut alors plus faire confiance a la pente calculee avec le bruit de type chi2 que le bruit gaussien, MAIS en etant clair sur le fait qu'on aura une tendance loin d'etre negligeable de s'eloigner regulierement du modele lineaire de maniere non-symetrique par rapport au modele.\n"
   ]
  },
  {
   "cell_type": "code",
   "execution_count": 175,
   "metadata": {},
   "outputs": [
    {
     "data": {
      "text/plain": [
       "\"\\n#Remarque : Generation de donnees dans cet exercice :\\n\\nimport numpy as np\\nimport matplotlib.pyplot as plt \\nn = 20\\nX = np.random.uniform(size=n)\\ny = 1.2*X[:] + np.random.chisquare(1.,size=n)*0.4-0.5\\n\\nplt.plot(X[], y, 'r.')\\nplt.show()\\n\\nMyData=np.concatenate((X.reshape(-1,1),y.reshape(-1,1)),axis=1)\\nnp.savetxt('J18_E4_QuantifiedData.csv',MyData)\\n\""
      ]
     },
     "execution_count": 175,
     "metadata": {},
     "output_type": "execute_result"
    }
   ],
   "source": [
    "\"\"\"\n",
    "#Remarque : Generation de donnees dans cet exercice :\n",
    "\n",
    "import numpy as np\n",
    "import matplotlib.pyplot as plt \n",
    "n = 20\n",
    "X = np.random.uniform(size=n)\n",
    "y = 1.2*X[:] + np.random.chisquare(1.,size=n)*0.4-0.5\n",
    "\n",
    "plt.plot(X[], y, 'r.')\n",
    "plt.show()\n",
    "\n",
    "MyData=np.concatenate((X.reshape(-1,1),y.reshape(-1,1)),axis=1)\n",
    "np.savetxt('J18_E4_QuantifiedData.csv',MyData)\n",
    "\"\"\""
   ]
  },
  {
   "cell_type": "code",
   "execution_count": null,
   "metadata": {},
   "outputs": [],
   "source": []
  },
  {
   "cell_type": "code",
   "execution_count": null,
   "metadata": {},
   "outputs": [],
   "source": []
  },
  {
   "cell_type": "code",
   "execution_count": null,
   "metadata": {},
   "outputs": [],
   "source": []
  }
 ],
 "metadata": {
  "anaconda-cloud": {},
  "kernelspec": {
   "display_name": "myenv",
   "language": "python",
   "name": "python3"
  },
  "language_info": {
   "codemirror_mode": {
    "name": "ipython",
    "version": 3
   },
   "file_extension": ".py",
   "mimetype": "text/x-python",
   "name": "python",
   "nbconvert_exporter": "python",
   "pygments_lexer": "ipython3",
   "version": "3.12.11"
  }
 },
 "nbformat": 4,
 "nbformat_minor": 4
}
